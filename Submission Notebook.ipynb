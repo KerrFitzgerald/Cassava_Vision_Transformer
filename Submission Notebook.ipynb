{
 "cells": [
  {
   "cell_type": "markdown",
   "metadata": {
    "papermill": {
     "duration": 0.014488,
     "end_time": "2021-02-18T16:16:18.388663",
     "exception": false,
     "start_time": "2021-02-18T16:16:18.374175",
     "status": "completed"
    },
    "tags": []
   },
   "source": [
    "# Import necessary modules"
   ]
  },
  {
   "cell_type": "code",
   "execution_count": 1,
   "metadata": {
    "execution": {
     "iopub.execute_input": "2021-02-18T16:16:18.422033Z",
     "iopub.status.busy": "2021-02-18T16:16:18.421384Z",
     "iopub.status.idle": "2021-02-18T16:16:20.313515Z",
     "shell.execute_reply": "2021-02-18T16:16:20.312238Z"
    },
    "papermill": {
     "duration": 1.911375,
     "end_time": "2021-02-18T16:16:20.313728",
     "exception": false,
     "start_time": "2021-02-18T16:16:18.402353",
     "status": "completed"
    },
    "tags": []
   },
   "outputs": [],
   "source": [
    "import torch\n",
    "import torch.nn.functional as F\n",
    "from torch import nn\n",
    "from torch import Tensor\n",
    "from torchvision.transforms import Compose, Resize, ToTensor\n",
    "from torchvision import datasets, transforms, models\n",
    "from torch.utils.data import Dataset, DataLoader\n",
    "from torchvision.utils import make_grid\n",
    "\n",
    "import os\n",
    "import time\n",
    "import pandas as pd\n",
    "import numpy as np\n",
    "from PIL import Image, ImageEnhance\n",
    "import matplotlib.pyplot as plt"
   ]
  },
  {
   "cell_type": "markdown",
   "metadata": {
    "papermill": {
     "duration": 0.013222,
     "end_time": "2021-02-18T16:16:20.340302",
     "exception": false,
     "start_time": "2021-02-18T16:16:20.327080",
     "status": "completed"
    },
    "tags": []
   },
   "source": [
    "# Install timm to access ViT PyTorch Models"
   ]
  },
  {
   "cell_type": "code",
   "execution_count": 2,
   "metadata": {
    "execution": {
     "iopub.execute_input": "2021-02-18T16:16:20.385669Z",
     "iopub.status.busy": "2021-02-18T16:16:20.373090Z",
     "iopub.status.idle": "2021-02-18T16:16:48.477979Z",
     "shell.execute_reply": "2021-02-18T16:16:48.479472Z"
    },
    "papermill": {
     "duration": 28.124957,
     "end_time": "2021-02-18T16:16:48.479715",
     "exception": false,
     "start_time": "2021-02-18T16:16:20.354758",
     "status": "completed"
    },
    "tags": []
   },
   "outputs": [
    {
     "name": "stdout",
     "output_type": "stream",
     "text": [
      "Processing /kaggle/input/timm034/timm-0.3.4-py3-none-any.whl\r\n",
      "Requirement already satisfied: torch>=1.4 in /opt/conda/lib/python3.7/site-packages (from timm==0.3.4) (1.7.0)\r\n",
      "Requirement already satisfied: torchvision in /opt/conda/lib/python3.7/site-packages (from timm==0.3.4) (0.8.1)\r\n",
      "Requirement already satisfied: future in /opt/conda/lib/python3.7/site-packages (from torch>=1.4->timm==0.3.4) (0.18.2)\r\n",
      "Requirement already satisfied: typing_extensions in /opt/conda/lib/python3.7/site-packages (from torch>=1.4->timm==0.3.4) (3.7.4.3)\r\n",
      "Requirement already satisfied: dataclasses in /opt/conda/lib/python3.7/site-packages (from torch>=1.4->timm==0.3.4) (0.6)\r\n",
      "Requirement already satisfied: numpy in /opt/conda/lib/python3.7/site-packages (from torch>=1.4->timm==0.3.4) (1.19.5)\r\n",
      "Requirement already satisfied: pillow>=4.1.1 in /opt/conda/lib/python3.7/site-packages (from torchvision->timm==0.3.4) (7.2.0)\r\n",
      "Installing collected packages: timm\r\n",
      "Successfully installed timm-0.3.4\r\n",
      "Note: you may need to restart the kernel to use updated packages.\n"
     ]
    }
   ],
   "source": [
    "pip install '../input/timm034/timm-0.3.4-py3-none-any.whl'"
   ]
  },
  {
   "cell_type": "markdown",
   "metadata": {
    "papermill": {
     "duration": 0.015708,
     "end_time": "2021-02-18T16:16:48.511934",
     "exception": false,
     "start_time": "2021-02-18T16:16:48.496226",
     "status": "completed"
    },
    "tags": []
   },
   "source": [
    "# Import timm"
   ]
  },
  {
   "cell_type": "code",
   "execution_count": 3,
   "metadata": {
    "execution": {
     "iopub.execute_input": "2021-02-18T16:16:48.549662Z",
     "iopub.status.busy": "2021-02-18T16:16:48.548271Z",
     "iopub.status.idle": "2021-02-18T16:16:48.682591Z",
     "shell.execute_reply": "2021-02-18T16:16:48.681457Z"
    },
    "papermill": {
     "duration": 0.155158,
     "end_time": "2021-02-18T16:16:48.682748",
     "exception": false,
     "start_time": "2021-02-18T16:16:48.527590",
     "status": "completed"
    },
    "tags": []
   },
   "outputs": [],
   "source": [
    "import timm"
   ]
  },
  {
   "cell_type": "markdown",
   "metadata": {
    "papermill": {
     "duration": 0.015369,
     "end_time": "2021-02-18T16:16:48.713726",
     "exception": false,
     "start_time": "2021-02-18T16:16:48.698357",
     "status": "completed"
    },
    "tags": []
   },
   "source": [
    "# Display Available Vision Transformer Models"
   ]
  },
  {
   "cell_type": "code",
   "execution_count": 4,
   "metadata": {
    "execution": {
     "iopub.execute_input": "2021-02-18T16:16:48.754494Z",
     "iopub.status.busy": "2021-02-18T16:16:48.753418Z",
     "iopub.status.idle": "2021-02-18T16:16:48.759225Z",
     "shell.execute_reply": "2021-02-18T16:16:48.759847Z"
    },
    "papermill": {
     "duration": 0.03094,
     "end_time": "2021-02-18T16:16:48.760052",
     "exception": false,
     "start_time": "2021-02-18T16:16:48.729112",
     "status": "completed"
    },
    "tags": []
   },
   "outputs": [
    {
     "name": "stdout",
     "output_type": "stream",
     "text": [
      "Available ViT Models: \n"
     ]
    },
    {
     "data": {
      "text/plain": [
       "['vit_base_patch16_224',\n",
       " 'vit_base_patch16_384',\n",
       " 'vit_base_patch32_384',\n",
       " 'vit_base_resnet26d_224',\n",
       " 'vit_base_resnet50d_224',\n",
       " 'vit_huge_patch16_224',\n",
       " 'vit_huge_patch32_384',\n",
       " 'vit_large_patch16_224',\n",
       " 'vit_large_patch16_384',\n",
       " 'vit_large_patch32_384',\n",
       " 'vit_small_patch16_224',\n",
       " 'vit_small_resnet26d_224',\n",
       " 'vit_small_resnet50d_s3_224']"
      ]
     },
     "execution_count": 4,
     "metadata": {},
     "output_type": "execute_result"
    }
   ],
   "source": [
    "print(\"Available ViT Models: \")\n",
    "timm.list_models(\"vit*\")"
   ]
  },
  {
   "cell_type": "code",
   "execution_count": 5,
   "metadata": {
    "execution": {
     "iopub.execute_input": "2021-02-18T16:16:48.797353Z",
     "iopub.status.busy": "2021-02-18T16:16:48.796527Z",
     "iopub.status.idle": "2021-02-18T16:16:48.799673Z",
     "shell.execute_reply": "2021-02-18T16:16:48.799206Z"
    },
    "papermill": {
     "duration": 0.023445,
     "end_time": "2021-02-18T16:16:48.799823",
     "exception": false,
     "start_time": "2021-02-18T16:16:48.776378",
     "status": "completed"
    },
    "tags": []
   },
   "outputs": [],
   "source": [
    "data_path  = '../input/cassava-leaf-disease-classification/'\n",
    "train_path = '../input/cassava-leaf-disease-classification/train_images/'\n",
    "test_path  = '../input/cassava-leaf-disease-classification/test_images/'\n",
    "model_path = '../input/vitbase16224/jx_vit_base_p16_224-80ecf9dd.pth'\n",
    "Cassava_model = '../input/cassavanewaugtp95epochs3/CassavaViT_newaug_TP95_Epochs3_LR1-75e05.pt'"
   ]
  },
  {
   "cell_type": "markdown",
   "metadata": {
    "papermill": {
     "duration": 0.016299,
     "end_time": "2021-02-18T16:16:48.832062",
     "exception": false,
     "start_time": "2021-02-18T16:16:48.815763",
     "status": "completed"
    },
    "tags": []
   },
   "source": [
    "# Define ViTBase 16 class"
   ]
  },
  {
   "cell_type": "code",
   "execution_count": 6,
   "metadata": {
    "execution": {
     "iopub.execute_input": "2021-02-18T16:16:48.872844Z",
     "iopub.status.busy": "2021-02-18T16:16:48.870933Z",
     "iopub.status.idle": "2021-02-18T16:16:48.873583Z",
     "shell.execute_reply": "2021-02-18T16:16:48.874032Z"
    },
    "papermill": {
     "duration": 0.026069,
     "end_time": "2021-02-18T16:16:48.874184",
     "exception": false,
     "start_time": "2021-02-18T16:16:48.848115",
     "status": "completed"
    },
    "tags": []
   },
   "outputs": [],
   "source": [
    "class ViTBase16(nn.Module):\n",
    "    def __init__(self, n_classes, pretrained=False):\n",
    "        \n",
    "        super(ViTBase16, self).__init__()\n",
    "        \n",
    "        self.model = timm.create_model(\"vit_base_patch16_224\", pretrained=False)\n",
    "        \n",
    "        if pretrained:\n",
    "            self.model.load_state_dict(torch.load(model_path))\n",
    "            \n",
    "        self.model.head = nn.Linear(self.model.head.in_features, n_classes)\n",
    "    \n",
    "    def forward(self, x):\n",
    "        x = self.model(x)\n",
    "        return x"
   ]
  },
  {
   "cell_type": "markdown",
   "metadata": {
    "papermill": {
     "duration": 0.01944,
     "end_time": "2021-02-18T16:16:48.915480",
     "exception": false,
     "start_time": "2021-02-18T16:16:48.896040",
     "status": "completed"
    },
    "tags": []
   },
   "source": [
    "# Create cassava pre-trained ViTBase16 model instance (5 classes)"
   ]
  },
  {
   "cell_type": "code",
   "execution_count": 7,
   "metadata": {
    "execution": {
     "iopub.execute_input": "2021-02-18T16:16:48.955989Z",
     "iopub.status.busy": "2021-02-18T16:16:48.955221Z",
     "iopub.status.idle": "2021-02-18T16:17:06.241708Z",
     "shell.execute_reply": "2021-02-18T16:17:06.242133Z"
    },
    "papermill": {
     "duration": 17.310699,
     "end_time": "2021-02-18T16:17:06.242308",
     "exception": false,
     "start_time": "2021-02-18T16:16:48.931609",
     "status": "completed"
    },
    "tags": []
   },
   "outputs": [
    {
     "data": {
      "text/plain": [
       "ViTBase16(\n",
       "  (model): VisionTransformer(\n",
       "    (patch_embed): PatchEmbed(\n",
       "      (proj): Conv2d(3, 768, kernel_size=(16, 16), stride=(16, 16))\n",
       "    )\n",
       "    (pos_drop): Dropout(p=0.0, inplace=False)\n",
       "    (blocks): ModuleList(\n",
       "      (0): Block(\n",
       "        (norm1): LayerNorm((768,), eps=1e-06, elementwise_affine=True)\n",
       "        (attn): Attention(\n",
       "          (qkv): Linear(in_features=768, out_features=2304, bias=True)\n",
       "          (attn_drop): Dropout(p=0.0, inplace=False)\n",
       "          (proj): Linear(in_features=768, out_features=768, bias=True)\n",
       "          (proj_drop): Dropout(p=0.0, inplace=False)\n",
       "        )\n",
       "        (drop_path): Identity()\n",
       "        (norm2): LayerNorm((768,), eps=1e-06, elementwise_affine=True)\n",
       "        (mlp): Mlp(\n",
       "          (fc1): Linear(in_features=768, out_features=3072, bias=True)\n",
       "          (act): GELU()\n",
       "          (fc2): Linear(in_features=3072, out_features=768, bias=True)\n",
       "          (drop): Dropout(p=0.0, inplace=False)\n",
       "        )\n",
       "      )\n",
       "      (1): Block(\n",
       "        (norm1): LayerNorm((768,), eps=1e-06, elementwise_affine=True)\n",
       "        (attn): Attention(\n",
       "          (qkv): Linear(in_features=768, out_features=2304, bias=True)\n",
       "          (attn_drop): Dropout(p=0.0, inplace=False)\n",
       "          (proj): Linear(in_features=768, out_features=768, bias=True)\n",
       "          (proj_drop): Dropout(p=0.0, inplace=False)\n",
       "        )\n",
       "        (drop_path): Identity()\n",
       "        (norm2): LayerNorm((768,), eps=1e-06, elementwise_affine=True)\n",
       "        (mlp): Mlp(\n",
       "          (fc1): Linear(in_features=768, out_features=3072, bias=True)\n",
       "          (act): GELU()\n",
       "          (fc2): Linear(in_features=3072, out_features=768, bias=True)\n",
       "          (drop): Dropout(p=0.0, inplace=False)\n",
       "        )\n",
       "      )\n",
       "      (2): Block(\n",
       "        (norm1): LayerNorm((768,), eps=1e-06, elementwise_affine=True)\n",
       "        (attn): Attention(\n",
       "          (qkv): Linear(in_features=768, out_features=2304, bias=True)\n",
       "          (attn_drop): Dropout(p=0.0, inplace=False)\n",
       "          (proj): Linear(in_features=768, out_features=768, bias=True)\n",
       "          (proj_drop): Dropout(p=0.0, inplace=False)\n",
       "        )\n",
       "        (drop_path): Identity()\n",
       "        (norm2): LayerNorm((768,), eps=1e-06, elementwise_affine=True)\n",
       "        (mlp): Mlp(\n",
       "          (fc1): Linear(in_features=768, out_features=3072, bias=True)\n",
       "          (act): GELU()\n",
       "          (fc2): Linear(in_features=3072, out_features=768, bias=True)\n",
       "          (drop): Dropout(p=0.0, inplace=False)\n",
       "        )\n",
       "      )\n",
       "      (3): Block(\n",
       "        (norm1): LayerNorm((768,), eps=1e-06, elementwise_affine=True)\n",
       "        (attn): Attention(\n",
       "          (qkv): Linear(in_features=768, out_features=2304, bias=True)\n",
       "          (attn_drop): Dropout(p=0.0, inplace=False)\n",
       "          (proj): Linear(in_features=768, out_features=768, bias=True)\n",
       "          (proj_drop): Dropout(p=0.0, inplace=False)\n",
       "        )\n",
       "        (drop_path): Identity()\n",
       "        (norm2): LayerNorm((768,), eps=1e-06, elementwise_affine=True)\n",
       "        (mlp): Mlp(\n",
       "          (fc1): Linear(in_features=768, out_features=3072, bias=True)\n",
       "          (act): GELU()\n",
       "          (fc2): Linear(in_features=3072, out_features=768, bias=True)\n",
       "          (drop): Dropout(p=0.0, inplace=False)\n",
       "        )\n",
       "      )\n",
       "      (4): Block(\n",
       "        (norm1): LayerNorm((768,), eps=1e-06, elementwise_affine=True)\n",
       "        (attn): Attention(\n",
       "          (qkv): Linear(in_features=768, out_features=2304, bias=True)\n",
       "          (attn_drop): Dropout(p=0.0, inplace=False)\n",
       "          (proj): Linear(in_features=768, out_features=768, bias=True)\n",
       "          (proj_drop): Dropout(p=0.0, inplace=False)\n",
       "        )\n",
       "        (drop_path): Identity()\n",
       "        (norm2): LayerNorm((768,), eps=1e-06, elementwise_affine=True)\n",
       "        (mlp): Mlp(\n",
       "          (fc1): Linear(in_features=768, out_features=3072, bias=True)\n",
       "          (act): GELU()\n",
       "          (fc2): Linear(in_features=3072, out_features=768, bias=True)\n",
       "          (drop): Dropout(p=0.0, inplace=False)\n",
       "        )\n",
       "      )\n",
       "      (5): Block(\n",
       "        (norm1): LayerNorm((768,), eps=1e-06, elementwise_affine=True)\n",
       "        (attn): Attention(\n",
       "          (qkv): Linear(in_features=768, out_features=2304, bias=True)\n",
       "          (attn_drop): Dropout(p=0.0, inplace=False)\n",
       "          (proj): Linear(in_features=768, out_features=768, bias=True)\n",
       "          (proj_drop): Dropout(p=0.0, inplace=False)\n",
       "        )\n",
       "        (drop_path): Identity()\n",
       "        (norm2): LayerNorm((768,), eps=1e-06, elementwise_affine=True)\n",
       "        (mlp): Mlp(\n",
       "          (fc1): Linear(in_features=768, out_features=3072, bias=True)\n",
       "          (act): GELU()\n",
       "          (fc2): Linear(in_features=3072, out_features=768, bias=True)\n",
       "          (drop): Dropout(p=0.0, inplace=False)\n",
       "        )\n",
       "      )\n",
       "      (6): Block(\n",
       "        (norm1): LayerNorm((768,), eps=1e-06, elementwise_affine=True)\n",
       "        (attn): Attention(\n",
       "          (qkv): Linear(in_features=768, out_features=2304, bias=True)\n",
       "          (attn_drop): Dropout(p=0.0, inplace=False)\n",
       "          (proj): Linear(in_features=768, out_features=768, bias=True)\n",
       "          (proj_drop): Dropout(p=0.0, inplace=False)\n",
       "        )\n",
       "        (drop_path): Identity()\n",
       "        (norm2): LayerNorm((768,), eps=1e-06, elementwise_affine=True)\n",
       "        (mlp): Mlp(\n",
       "          (fc1): Linear(in_features=768, out_features=3072, bias=True)\n",
       "          (act): GELU()\n",
       "          (fc2): Linear(in_features=3072, out_features=768, bias=True)\n",
       "          (drop): Dropout(p=0.0, inplace=False)\n",
       "        )\n",
       "      )\n",
       "      (7): Block(\n",
       "        (norm1): LayerNorm((768,), eps=1e-06, elementwise_affine=True)\n",
       "        (attn): Attention(\n",
       "          (qkv): Linear(in_features=768, out_features=2304, bias=True)\n",
       "          (attn_drop): Dropout(p=0.0, inplace=False)\n",
       "          (proj): Linear(in_features=768, out_features=768, bias=True)\n",
       "          (proj_drop): Dropout(p=0.0, inplace=False)\n",
       "        )\n",
       "        (drop_path): Identity()\n",
       "        (norm2): LayerNorm((768,), eps=1e-06, elementwise_affine=True)\n",
       "        (mlp): Mlp(\n",
       "          (fc1): Linear(in_features=768, out_features=3072, bias=True)\n",
       "          (act): GELU()\n",
       "          (fc2): Linear(in_features=3072, out_features=768, bias=True)\n",
       "          (drop): Dropout(p=0.0, inplace=False)\n",
       "        )\n",
       "      )\n",
       "      (8): Block(\n",
       "        (norm1): LayerNorm((768,), eps=1e-06, elementwise_affine=True)\n",
       "        (attn): Attention(\n",
       "          (qkv): Linear(in_features=768, out_features=2304, bias=True)\n",
       "          (attn_drop): Dropout(p=0.0, inplace=False)\n",
       "          (proj): Linear(in_features=768, out_features=768, bias=True)\n",
       "          (proj_drop): Dropout(p=0.0, inplace=False)\n",
       "        )\n",
       "        (drop_path): Identity()\n",
       "        (norm2): LayerNorm((768,), eps=1e-06, elementwise_affine=True)\n",
       "        (mlp): Mlp(\n",
       "          (fc1): Linear(in_features=768, out_features=3072, bias=True)\n",
       "          (act): GELU()\n",
       "          (fc2): Linear(in_features=3072, out_features=768, bias=True)\n",
       "          (drop): Dropout(p=0.0, inplace=False)\n",
       "        )\n",
       "      )\n",
       "      (9): Block(\n",
       "        (norm1): LayerNorm((768,), eps=1e-06, elementwise_affine=True)\n",
       "        (attn): Attention(\n",
       "          (qkv): Linear(in_features=768, out_features=2304, bias=True)\n",
       "          (attn_drop): Dropout(p=0.0, inplace=False)\n",
       "          (proj): Linear(in_features=768, out_features=768, bias=True)\n",
       "          (proj_drop): Dropout(p=0.0, inplace=False)\n",
       "        )\n",
       "        (drop_path): Identity()\n",
       "        (norm2): LayerNorm((768,), eps=1e-06, elementwise_affine=True)\n",
       "        (mlp): Mlp(\n",
       "          (fc1): Linear(in_features=768, out_features=3072, bias=True)\n",
       "          (act): GELU()\n",
       "          (fc2): Linear(in_features=3072, out_features=768, bias=True)\n",
       "          (drop): Dropout(p=0.0, inplace=False)\n",
       "        )\n",
       "      )\n",
       "      (10): Block(\n",
       "        (norm1): LayerNorm((768,), eps=1e-06, elementwise_affine=True)\n",
       "        (attn): Attention(\n",
       "          (qkv): Linear(in_features=768, out_features=2304, bias=True)\n",
       "          (attn_drop): Dropout(p=0.0, inplace=False)\n",
       "          (proj): Linear(in_features=768, out_features=768, bias=True)\n",
       "          (proj_drop): Dropout(p=0.0, inplace=False)\n",
       "        )\n",
       "        (drop_path): Identity()\n",
       "        (norm2): LayerNorm((768,), eps=1e-06, elementwise_affine=True)\n",
       "        (mlp): Mlp(\n",
       "          (fc1): Linear(in_features=768, out_features=3072, bias=True)\n",
       "          (act): GELU()\n",
       "          (fc2): Linear(in_features=3072, out_features=768, bias=True)\n",
       "          (drop): Dropout(p=0.0, inplace=False)\n",
       "        )\n",
       "      )\n",
       "      (11): Block(\n",
       "        (norm1): LayerNorm((768,), eps=1e-06, elementwise_affine=True)\n",
       "        (attn): Attention(\n",
       "          (qkv): Linear(in_features=768, out_features=2304, bias=True)\n",
       "          (attn_drop): Dropout(p=0.0, inplace=False)\n",
       "          (proj): Linear(in_features=768, out_features=768, bias=True)\n",
       "          (proj_drop): Dropout(p=0.0, inplace=False)\n",
       "        )\n",
       "        (drop_path): Identity()\n",
       "        (norm2): LayerNorm((768,), eps=1e-06, elementwise_affine=True)\n",
       "        (mlp): Mlp(\n",
       "          (fc1): Linear(in_features=768, out_features=3072, bias=True)\n",
       "          (act): GELU()\n",
       "          (fc2): Linear(in_features=3072, out_features=768, bias=True)\n",
       "          (drop): Dropout(p=0.0, inplace=False)\n",
       "        )\n",
       "      )\n",
       "    )\n",
       "    (norm): LayerNorm((768,), eps=1e-06, elementwise_affine=True)\n",
       "    (head): Linear(in_features=768, out_features=5, bias=True)\n",
       "  )\n",
       ")"
      ]
     },
     "execution_count": 7,
     "metadata": {},
     "output_type": "execute_result"
    }
   ],
   "source": [
    "cassava_model = ViTBase16(n_classes=5, pretrained=True)\n",
    "cassava_model.load_state_dict(torch.load(Cassava_model))\n",
    "cassava_gpu_model = cassava_model.cuda()\n",
    "criterion = nn.CrossEntropyLoss()\n",
    "optimizer = torch.optim.Adam(cassava_gpu_model.parameters(), lr=1.5e-05)\n",
    "cassava_gpu_model"
   ]
  },
  {
   "cell_type": "markdown",
   "metadata": {
    "papermill": {
     "duration": 0.016168,
     "end_time": "2021-02-18T16:17:06.275176",
     "exception": false,
     "start_time": "2021-02-18T16:17:06.259008",
     "status": "completed"
    },
    "tags": []
   },
   "source": [
    "# Examine test image folder"
   ]
  },
  {
   "cell_type": "code",
   "execution_count": 8,
   "metadata": {
    "execution": {
     "iopub.execute_input": "2021-02-18T16:17:06.314552Z",
     "iopub.status.busy": "2021-02-18T16:17:06.313894Z",
     "iopub.status.idle": "2021-02-18T16:17:06.323191Z",
     "shell.execute_reply": "2021-02-18T16:17:06.323840Z"
    },
    "papermill": {
     "duration": 0.032035,
     "end_time": "2021-02-18T16:17:06.324096",
     "exception": false,
     "start_time": "2021-02-18T16:17:06.292061",
     "status": "completed"
    },
    "tags": []
   },
   "outputs": [
    {
     "name": "stdout",
     "output_type": "stream",
     "text": [
      "************************************************FOLDER************************************************\n",
      "../input/cassava-leaf-disease-classification/test_images/\n",
      "************************************************IMAGES************************************************\n",
      "2216849948.jpg\n",
      "Testing Images:  1\n"
     ]
    }
   ],
   "source": [
    "test_img_names = []\n",
    "for folder, subfolders, filenames in os.walk(test_path):\n",
    "    print('************************************************FOLDER************************************************')\n",
    "    print(folder)\n",
    "    print('************************************************IMAGES************************************************')\n",
    "    for img in filenames:\n",
    "        print(img)\n",
    "        if img[-3:] == 'jpg':\n",
    "            test_img_names.append(img)        \n",
    "print('Testing Images: ',len(test_img_names))"
   ]
  },
  {
   "cell_type": "markdown",
   "metadata": {
    "papermill": {
     "duration": 0.016795,
     "end_time": "2021-02-18T16:17:06.358699",
     "exception": false,
     "start_time": "2021-02-18T16:17:06.341904",
     "status": "completed"
    },
    "tags": []
   },
   "source": [
    "# Create class to load test data (adds image names)"
   ]
  },
  {
   "cell_type": "code",
   "execution_count": 9,
   "metadata": {
    "execution": {
     "iopub.execute_input": "2021-02-18T16:17:06.401784Z",
     "iopub.status.busy": "2021-02-18T16:17:06.401122Z",
     "iopub.status.idle": "2021-02-18T16:17:06.404713Z",
     "shell.execute_reply": "2021-02-18T16:17:06.404240Z"
    },
    "papermill": {
     "duration": 0.029024,
     "end_time": "2021-02-18T16:17:06.404863",
     "exception": false,
     "start_time": "2021-02-18T16:17:06.375839",
     "status": "completed"
    },
    "tags": []
   },
   "outputs": [],
   "source": [
    "class TestSet2(Dataset):\n",
    "    \"\"\"Cassava Disease Dataset\"\"\"\n",
    "\n",
    "    def __init__(self, root_dir, test_dir, transform=None):\n",
    "        \"\"\"\n",
    "        Args:\n",
    "            csv_file (string): Path to the csv file with test image names.\n",
    "            root_dir (string): Directory with all the test images.\n",
    "            transform (callable, optional): Optional transform to be applied\n",
    "            on a sample.\n",
    "        \"\"\"\n",
    "        super().__init__()\n",
    "        self.root_dir = root_dir\n",
    "        self.test_dir = test_dir\n",
    "        self.transform = transform\n",
    "        print(root_dir)\n",
    "        print(test_dir)\n",
    "        print(\"Cassava Disease Test Dataset Length = \", len(os.listdir(self.test_dir)))\n",
    "\n",
    "\n",
    "    def __len__(self):\n",
    "        return len(os.listdir(self.test_dir))\n",
    "\n",
    "\n",
    "    def __getitem__(self, idx):\n",
    "        img_path = self.test_dir + os.listdir(self.test_dir)[idx] \n",
    "        img = Image.open(img_path).convert(\"RGB\")\n",
    "        image_name = os.listdir(self.test_dir)[idx]\n",
    "\n",
    "        \n",
    "        if self.transform:\n",
    "            image = self.transform(img)\n",
    "    \n",
    "        return (image, image_name)"
   ]
  },
  {
   "cell_type": "markdown",
   "metadata": {
    "papermill": {
     "duration": 0.016836,
     "end_time": "2021-02-18T16:17:06.438750",
     "exception": false,
     "start_time": "2021-02-18T16:17:06.421914",
     "status": "completed"
    },
    "tags": []
   },
   "source": [
    "# Create test transforms (needed for image resizing)"
   ]
  },
  {
   "cell_type": "code",
   "execution_count": 10,
   "metadata": {
    "execution": {
     "iopub.execute_input": "2021-02-18T16:17:06.478615Z",
     "iopub.status.busy": "2021-02-18T16:17:06.477953Z",
     "iopub.status.idle": "2021-02-18T16:17:06.481720Z",
     "shell.execute_reply": "2021-02-18T16:17:06.481249Z"
    },
    "papermill": {
     "duration": 0.026132,
     "end_time": "2021-02-18T16:17:06.481864",
     "exception": false,
     "start_time": "2021-02-18T16:17:06.455732",
     "status": "completed"
    },
    "tags": []
   },
   "outputs": [],
   "source": [
    "test_transform = transforms.Compose([\n",
    "        transforms.Resize((224, 224)),\n",
    "        transforms.ToTensor(),\n",
    "        transforms.Normalize([0.485, 0.456, 0.406],\n",
    "                             [0.229, 0.224, 0.225])\n",
    "    ])"
   ]
  },
  {
   "cell_type": "markdown",
   "metadata": {
    "papermill": {
     "duration": 0.018546,
     "end_time": "2021-02-18T16:17:06.517910",
     "exception": false,
     "start_time": "2021-02-18T16:17:06.499364",
     "status": "completed"
    },
    "tags": []
   },
   "source": [
    "# Create test dataset"
   ]
  },
  {
   "cell_type": "code",
   "execution_count": 11,
   "metadata": {
    "execution": {
     "iopub.execute_input": "2021-02-18T16:17:06.559030Z",
     "iopub.status.busy": "2021-02-18T16:17:06.558293Z",
     "iopub.status.idle": "2021-02-18T16:17:06.564475Z",
     "shell.execute_reply": "2021-02-18T16:17:06.565053Z"
    },
    "papermill": {
     "duration": 0.029226,
     "end_time": "2021-02-18T16:17:06.565218",
     "exception": false,
     "start_time": "2021-02-18T16:17:06.535992",
     "status": "completed"
    },
    "tags": []
   },
   "outputs": [
    {
     "name": "stdout",
     "output_type": "stream",
     "text": [
      "\n",
      "../input/cassava-leaf-disease-classification/test_images/\n",
      "Cassava Disease Test Dataset Length =  1\n",
      "<__main__.TestSet2 object at 0x7faf93e2ec90>\n"
     ]
    }
   ],
   "source": [
    "testset = TestSet2(root_dir = '' , test_dir=test_path, transform = test_transform)\n",
    "print(testset)"
   ]
  },
  {
   "cell_type": "markdown",
   "metadata": {
    "papermill": {
     "duration": 0.017813,
     "end_time": "2021-02-18T16:17:06.601558",
     "exception": false,
     "start_time": "2021-02-18T16:17:06.583745",
     "status": "completed"
    },
    "tags": []
   },
   "source": [
    "# Load the test dataset"
   ]
  },
  {
   "cell_type": "code",
   "execution_count": 12,
   "metadata": {
    "execution": {
     "iopub.execute_input": "2021-02-18T16:17:06.644433Z",
     "iopub.status.busy": "2021-02-18T16:17:06.643804Z",
     "iopub.status.idle": "2021-02-18T16:17:06.649013Z",
     "shell.execute_reply": "2021-02-18T16:17:06.648416Z"
    },
    "papermill": {
     "duration": 0.028831,
     "end_time": "2021-02-18T16:17:06.649215",
     "exception": false,
     "start_time": "2021-02-18T16:17:06.620384",
     "status": "completed"
    },
    "tags": []
   },
   "outputs": [],
   "source": [
    "test_batch_size = 1\n",
    "test_loader = DataLoader(dataset=testset, batch_size=test_batch_size, shuffle=True, pin_memory=True)"
   ]
  },
  {
   "cell_type": "markdown",
   "metadata": {
    "papermill": {
     "duration": 0.018181,
     "end_time": "2021-02-18T16:17:06.686293",
     "exception": false,
     "start_time": "2021-02-18T16:17:06.668112",
     "status": "completed"
    },
    "tags": []
   },
   "source": [
    "# Check to see if test_loader is working"
   ]
  },
  {
   "cell_type": "code",
   "execution_count": 13,
   "metadata": {
    "execution": {
     "iopub.execute_input": "2021-02-18T16:17:06.733594Z",
     "iopub.status.busy": "2021-02-18T16:17:06.732758Z",
     "iopub.status.idle": "2021-02-18T16:17:07.063701Z",
     "shell.execute_reply": "2021-02-18T16:17:07.064197Z"
    },
    "papermill": {
     "duration": 0.359627,
     "end_time": "2021-02-18T16:17:07.064366",
     "exception": false,
     "start_time": "2021-02-18T16:17:06.704739",
     "status": "completed"
    },
    "tags": []
   },
   "outputs": [
    {
     "name": "stdout",
     "output_type": "stream",
     "text": [
      "<torch.utils.data.dataloader.DataLoader object at 0x7fafa2af90d0>\n",
      "['2216849948.jpg']\n"
     ]
    },
    {
     "data": {
      "image/png": "[encoded data removed]",
      "text/plain": [
       "<Figure size 864x288 with 1 Axes>"
      ]
     },
     "metadata": {
      "needs_background": "light"
     },
     "output_type": "display_data"
    }
   ],
   "source": [
    "print(test_loader)\n",
    "\n",
    "# Grab the first batch of 16 images\n",
    "for images,names in test_loader: \n",
    "    break\n",
    "\n",
    "im = make_grid(images, nrow=4)  # the default nrow is 8\n",
    "\n",
    "# Inverse normalize the images\n",
    "#inv_normalize = transforms.Normalize(\n",
    "#    mean=[-0.485/0.229, -0.456/0.224, -0.406/0.225],\n",
    "#    std=[1/0.229, 1/0.224, 1/0.225]\n",
    "#)\n",
    "#im_inv = inv_normalize(im)\n",
    "print(names)\n",
    "# Print the images\n",
    "plt.figure(figsize=(12,4))\n",
    "plt.imshow(np.transpose(im.numpy(), (1, 2, 0)));"
   ]
  },
  {
   "cell_type": "markdown",
   "metadata": {
    "papermill": {
     "duration": 0.022474,
     "end_time": "2021-02-18T16:17:07.109408",
     "exception": false,
     "start_time": "2021-02-18T16:17:07.086934",
     "status": "completed"
    },
    "tags": []
   },
   "source": [
    "# Used trained model to generate test data predictions\n",
    "# Generate submission file"
   ]
  },
  {
   "cell_type": "code",
   "execution_count": 14,
   "metadata": {
    "execution": {
     "iopub.execute_input": "2021-02-18T16:17:07.175013Z",
     "iopub.status.busy": "2021-02-18T16:17:07.173884Z",
     "iopub.status.idle": "2021-02-18T16:17:08.903482Z",
     "shell.execute_reply": "2021-02-18T16:17:08.904524Z"
    },
    "papermill": {
     "duration": 1.772887,
     "end_time": "2021-02-18T16:17:08.904707",
     "exception": false,
     "start_time": "2021-02-18T16:17:07.131820",
     "status": "completed"
    },
    "tags": []
   },
   "outputs": [
    {
     "name": "stdout",
     "output_type": "stream",
     "text": [
      "Time for model val is  0.8213293552398682\n"
     ]
    },
    {
     "data": {
      "text/html": [
       "<div>\n",
       "<style scoped>\n",
       "    .dataframe tbody tr th:only-of-type {\n",
       "        vertical-align: middle;\n",
       "    }\n",
       "\n",
       "    .dataframe tbody tr th {\n",
       "        vertical-align: top;\n",
       "    }\n",
       "\n",
       "    .dataframe thead th {\n",
       "        text-align: right;\n",
       "    }\n",
       "</style>\n",
       "<table border=\"1\" class=\"dataframe\">\n",
       "  <thead>\n",
       "    <tr style=\"text-align: right;\">\n",
       "      <th></th>\n",
       "      <th>image_id</th>\n",
       "      <th>label</th>\n",
       "    </tr>\n",
       "  </thead>\n",
       "  <tbody>\n",
       "    <tr>\n",
       "      <th>0</th>\n",
       "      <td>2216849948.jpg</td>\n",
       "      <td>2</td>\n",
       "    </tr>\n",
       "  </tbody>\n",
       "</table>\n",
       "</div>"
      ],
      "text/plain": [
       "         image_id  label\n",
       "0  2216849948.jpg      2"
      ]
     },
     "metadata": {},
     "output_type": "display_data"
    },
    {
     "name": "stdout",
     "output_type": "stream",
     "text": [
      "__notebook__.ipynb  submission.csv\r\n"
     ]
    }
   ],
   "source": [
    "test_losses = []\n",
    "test_correct = []\n",
    "col_names =  ['image_id', 'label']\n",
    "submission_df = pd.DataFrame(columns = col_names)\n",
    "tic = time.time()\n",
    "with torch.no_grad():\n",
    "    for b, (X_test, name) in enumerate(test_loader):\n",
    "        X_test = X_test.cuda()\n",
    "        # Apply the model\n",
    "        y_test_pred = cassava_gpu_model(X_test)\n",
    "        predicted = torch.max(y_test_pred.data, 1)[1]\n",
    "        label = int(predicted)\n",
    "        image_name = name[0]\n",
    "        new_row = {'image_id': image_name, 'label': label}\n",
    "        submission_df = submission_df.append(new_row, ignore_index=True)\n",
    "        \n",
    "toc = time.time() - tic\n",
    "print('Time for model val is ', toc)\n",
    "#display(submission_df)\n",
    "submission_df.to_csv('submission.csv', index=False)\n",
    "df_sub_test = pd.read_csv('submission.csv')\n",
    "display(df_sub_test)\n",
    "!ls"
   ]
  }
 ],
 "metadata": {
  "kernelspec": {
   "display_name": "Python 3",
   "language": "python",
   "name": "python3"
  },
  "language_info": {
   "codemirror_mode": {
    "name": "ipython",
    "version": 3
   },
   "file_extension": ".py",
   "mimetype": "text/x-python",
   "name": "python",
   "nbconvert_exporter": "python",
   "pygments_lexer": "ipython3",
   "version": "3.7.9"
  },
  "papermill": {
   "default_parameters": {},
   "duration": 58.744685,
   "end_time": "2021-02-18T16:17:11.156252",
   "environment_variables": {},
   "exception": null,
   "input_path": "__notebook__.ipynb",
   "output_path": "__notebook__.ipynb",
   "parameters": {},
   "start_time": "2021-02-18T16:16:12.411567",
   "version": "2.2.2"
  }
 },
 "nbformat": 4,
 "nbformat_minor": 4
}
